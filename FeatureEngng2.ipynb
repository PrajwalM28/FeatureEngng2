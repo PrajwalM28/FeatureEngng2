{
 "cells": [
  {
   "cell_type": "markdown",
   "id": "8eb655e7-5b50-4cf9-8ea4-8e07f32ffbc7",
   "metadata": {},
   "source": [
    "# Q1.\n",
    "###  What is the Filter method in feature selection, and how does it work?"
   ]
  },
  {
   "cell_type": "markdown",
   "id": "135aea80-5569-4e33-b28e-56a56f43182d",
   "metadata": {},
   "source": [
    "- The filter method is a feature selection technique that evaluates the relevance of features based on certain criteria without involving a machine learning model.\n",
    "It relies on statistical measures, correlation, or other metrics to rank and select features.\n"
   ]
  },
  {
   "cell_type": "markdown",
   "id": "5278cde2-2e94-420f-bcb7-54afc2bfd90e",
   "metadata": {},
   "source": [
    "# Q2.\n",
    "### How does the Wrapper method differ from the Filter method in feature selection?"
   ]
  },
  {
   "cell_type": "markdown",
   "id": "b4a294eb-0634-46e1-be9c-b930d4a72622",
   "metadata": {},
   "source": [
    "- Filter Method: Evaluates features based on predefined criteria without involving a machine learning model.\n",
    "\n",
    "- Wrapper Method: Employs a predictive model to assess feature subsets, iterating through various combinations and selecting the subset that yields the best model performance."
   ]
  },
  {
   "cell_type": "markdown",
   "id": "03fe3b29-4436-41af-8c22-4e39928c0b73",
   "metadata": {},
   "source": [
    "# Q3.\n",
    "### What are some common techniques used in Embedded feature selection methods?"
   ]
  },
  {
   "cell_type": "markdown",
   "id": "6abaca57-a9eb-41e0-8427-4b15dbd01e7a",
   "metadata": {},
   "source": [
    "- LASSO(Least Absolute Shrinkage and Selection Operation)\n",
    "- Decision Trees\n",
    "- Regularized Regression Models."
   ]
  },
  {
   "cell_type": "markdown",
   "id": "4a05d80c-f0b4-4b69-9df7-4526cea8605f",
   "metadata": {},
   "source": [
    "# Q4.\n",
    "### What are some drawbacks of using the Filter method for feature selection?"
   ]
  },
  {
   "cell_type": "markdown",
   "id": "e3024391-315c-4cfc-b3d2-2b2c1222fe3b",
   "metadata": {},
   "source": [
    "- Independence Assumption\n",
    "- Ignores Feature Dependencies\n",
    "- Not Model-Specific"
   ]
  },
  {
   "cell_type": "markdown",
   "id": "4a87ac39-95e5-4cc4-b19b-43b58e07860d",
   "metadata": {},
   "source": [
    "# Q5.\n",
    "### In which situations would you prefer using the Filter method over the Wrapper method for feature selection?"
   ]
  },
  {
   "cell_type": "markdown",
   "id": "a181e502-2af1-4d65-8183-8ed7e78096df",
   "metadata": {},
   "source": [
    "- Large Datasets: Filter methods are computationally less expensive and are more suitable for large datasets where wrapper methods might be too time-consuming.\n",
    "\n",
    "- Exploratory Data Analysis (EDA): Filter methods are useful in the initial stages of analysis for quick insights into feature relevance."
   ]
  },
  {
   "cell_type": "markdown",
   "id": "3ca7c6c2-8d14-4586-9cc0-ffce132613dd",
   "metadata": {},
   "source": [
    "# Q6.\n",
    "### In a telecom company, you are working on a project to develop a predictive model for customer churn. You are unsure of which features to include in the model because the dataset contains several different ones. Describe how you would choose the most pertinent attributes for the model using the Filter Method."
   ]
  },
  {
   "cell_type": "markdown",
   "id": "931919a7-6a0f-44a1-8d1b-27a5eac619d1",
   "metadata": {},
   "source": [
    "- Apply statistical measure to quantify the relationship between each feature and the target variable.\n",
    "\n",
    "- Select the top-ranked features based on the chosen criteria.\n",
    "\n",
    "- Consider domain knowledge and business context to validate the selected features."
   ]
  },
  {
   "cell_type": "markdown",
   "id": "e031e4cf-c61d-46ec-bcb5-2ca249089588",
   "metadata": {},
   "source": [
    "# Q7.\n",
    "### You are working on a project to predict the outcome of a soccer match. You have a large dataset with many features, including player statistics and team rankings. Explain how you would use the Embedded method to select the most relevant features for the model."
   ]
  },
  {
   "cell_type": "markdown",
   "id": "ef3b7d04-2eee-4ba9-a2b0-6c9469d16556",
   "metadata": {},
   "source": [
    "- Utilize a model that provides feature importance scores.\n",
    "- Extract feature importance scores and select the most relevant features.\n",
    "- Regularize the model during training to automatically eliminate less important features."
   ]
  },
  {
   "cell_type": "markdown",
   "id": "0bc785dd-2054-47d9-a7bc-2ada66a5b3cc",
   "metadata": {},
   "source": [
    "# Q8.\n",
    "### You are working on a project to predict the price of a house based on its features, such as size, location, and age. You have a limited number of features, and you want to ensure that you select the most important ones for the model. Explain how you would use the Wrapper method to select the best set of features for the predictor."
   ]
  },
  {
   "cell_type": "markdown",
   "id": "9ae42843-9100-4698-8507-7b15a5442096",
   "metadata": {},
   "source": [
    "- Select a set of features as the initial subset.\n",
    "- Train the model with different combinations of features and evaluate model performance.\n",
    "- Use a performance metric to identify the best subset of features.\n",
    "- Repeat the process with various subsets until the optimal set of features is found."
   ]
  }
 ],
 "metadata": {
  "kernelspec": {
   "display_name": "Python 3 (ipykernel)",
   "language": "python",
   "name": "python3"
  },
  "language_info": {
   "codemirror_mode": {
    "name": "ipython",
    "version": 3
   },
   "file_extension": ".py",
   "mimetype": "text/x-python",
   "name": "python",
   "nbconvert_exporter": "python",
   "pygments_lexer": "ipython3",
   "version": "3.10.8"
  }
 },
 "nbformat": 4,
 "nbformat_minor": 5
}
